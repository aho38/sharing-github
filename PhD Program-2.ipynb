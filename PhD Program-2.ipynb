{
 "cells": [
  {
   "cell_type": "markdown",
   "metadata": {},
   "source": [
    "# List of PhD Programs for Applied Mathematics\n",
    "**Alex Ho**"
   ]
  },
  {
   "cell_type": "markdown",
   "metadata": {},
   "source": [
    "## Northwestern\n",
    "\n",
    "<div class=\"alert alert-block alert-danger\">\n",
    "**Due Date Mathematics: December 15th** <br> **Due Date Engineering Science And Appl Math: December 31** \n",
    "</div>\n",
    "\n",
    "### Application Requirements: __[WEB Link](https://www.tgs.northwestern.edu/admission/application-requirements/index.html)__\n",
    "* ***Application Fee:*** \\$95 (\\$150 for McCormick school of engineering)\n",
    "* ***Personal Statement:*** Will be carefully considered the program admission committee to rank your application.\n",
    "* ***Letters of recommendation*** from professors: 2 or more.\n",
    "* ***scanned copy of transcript*** for each colleges/universities \n",
    "* ***GRE***: both general test and the subject test in mathematics. \n",
    "<div class=\"alert alert-block alert-info\">\n",
    "<b>Note:</b> No applications will be rejected because of absence GRE scores\n",
    "</div>\n",
    "\n",
    "### Programs:\n",
    "***Mathematics*** - __[***WEB Link***](https://www.tgs.northwestern.edu/academics/programs/mathematics/index.html)__\n",
    "> ***Degree Types:*** PhD\n",
    "\n",
    "> ***Description:*** Program in Department of Mathematics aims to develop students into productive research mathematician. Low student-faculty ratio, approximately two-to-one, allows for close relationships between stdents and faculty.\n",
    "\n",
    "***Engineering Sciences and Applied Mathematics*** __[***WEB Link***](https://www.tgs.northwestern.edu/academics/programs/engineering-sciences-and-applied-mathematics/index.html)__\n",
    "> ***Degree Types:*** PhD, MS\n",
    "\n",
    "> ***Description:*** Program in Applied Mathematics educations students in mathematical methods and their application to various scientific and engineering fields.\n"
   ]
  },
  {
   "cell_type": "markdown",
   "metadata": {},
   "source": [
    "-----"
   ]
  },
  {
   "cell_type": "markdown",
   "metadata": {},
   "source": [
    "## UCSC\n",
    "<div class=\"alert alert-block alert-danger\">**Due Date Mathematics: December 10** <br> **Due Date Scientific Computatio And Appl Math: February 1** <br> **Due Date Statistics And Appl Math: January 10** </div>\n",
    "\n",
    "### Application Requirements: __[WEB Link](https://www.gradadmissions.ucsc.edu/instructions)__\n",
    "* ***Application Fee:*** \\$105 \n",
    "* ***Personal Statement:*** Include statement of purpose, personal history statement, Supplemental Materials(Résumé and additional supplemental materials)\n",
    "* ***Letters of Recommendation:*** 3 or more recommendations\n",
    "* ***Transcripts:*** May upload a scanned copy of your unofficial transcript to online application\n",
    "* ***GRE:*** \n",
    "\n",
    "### Programs:\n",
    "***Mathematics*** - __[WEB Link](https://www.math.ucsc.edu/graduate/index.html)__\n",
    "> ***Degree Type:*** Phd, MS\n",
    "\n",
    "> ***Description:*** Mathematics Department at UC Santa Cruz is small but dynamic, with an ongoing commitement to both research and teching. The department has leading research programs in several actively developing areas on the frontiers of pure and applied mathematics, interacting strongly with theoretical physics and mechanics.\n",
    "\n",
    "***Scientific Computing and Appl Math*** __[WEB Link](https://www.soe.ucsc.edu/departments/applied-mathematics-statistics/teaching/scicam-masters-program)__\n",
    "> ***Degree Type:*** MS\n",
    "\n",
    "> *** Description:*** Department of Applied Mathematics offers and M.S. program that help students leanr a combination of cutting-edge computational methods for modern high-performance computing architectures and applied mathematical modeling. The department also offers a designated emphasis in Scientific Computing.\n",
    "\n",
    "*** Satistics and Appl Math*** __[WEB Link](https://www.soe.ucsc.edu/departments/applied-mathematics-statistics/teaching/sam-phdms-programs)__\n",
    "> ***Degree Type:*** PhD, MS\n",
    "\n",
    "> *** Description:*** The goal of these programs is to help students develope into independent scholars who are prepared for productive careers in research, teaching, and industry. The department also offers a desinated emphasis in Statistics."
   ]
  },
  {
   "cell_type": "markdown",
   "metadata": {},
   "source": [
    "***"
   ]
  },
  {
   "cell_type": "markdown",
   "metadata": {},
   "source": [
    "## RICE University\n",
    "<div class=\"alert alert-block alert-danger\">**Due Date Computational And Appl Math: December 15** <br> **Due Date Mathematics: Januaray 1**(Please confirm by contacting the University since the info provided on web is outdated) </div> __[More Info on Appl Math](https://www.caam.rice.edu/graduate-program/admissions)__\n",
    "\n",
    "__[More Info on Mathematics](https://gpsdocs.rice.edu/dept_brochures/MATH-pr.pdf)__\n",
    "### Application Requirements: __[WEB Link](https://graduate.rice.edu/genadmissionreq)__\n",
    "\n",
    "- ***Application Fee:*** \\$85\n",
    "- ***Letters of Recommendation:*** at least 3 (preferably 4)\n",
    "- ***Official Transcripts:*** **unofficial** transcripts should be uploaded directly into application system at the time application is submitted.One **Official** transcript from all universities/colleges attended should be sent directly to the department.\n",
    "- ***GPA Requirements:*** 3.0 or higher\n",
    "- ***GRE:*** GRE sent electronically from ETS. \n",
    "\n",
    "    <div class=\"alert alert-block alert-info\"> \n",
    "    <b>Note:</b> Subject Mathematics test not required for Computational Applied Mathematics but is required for Mathematics.\n",
    "</div>.\n",
    "\n",
    "### Programs:\n",
    "***Computational and Appl Math*** __[WEB Link](https://www.caam.rice.edu/graduate-program/doctoral-program)__\n",
    "> ***Degree Type:*** PhD, MS\n",
    "\n",
    "> ***Description:*** This program encompasses a broad spectrum of mathematical field and computational methods, including:\n",
    "    - Numerical anaysis\n",
    "    - Operations research\n",
    "    - Optimization\n",
    "    - Differential equations\n",
    "    - Scientific computation\n",
    "\n",
    "*** Mathematics*** __[WEB Link](https://graduate.rice.edu/mathematics)__\n",
    "> ***Degree Type:*** MA, PhD\n",
    "\n",
    "> ***Description:*** Wide range of directed research areas, small student-faculty ratio, access to world-class research facilities, graduate students in Rice University's Department of Mathematics receive the benefits of being part of an internationally renowned reserach university and Rice's connection with Houston's premier research, science and educational institutions."
   ]
  },
  {
   "cell_type": "markdown",
   "metadata": {},
   "source": [
    "---"
   ]
  },
  {
   "cell_type": "markdown",
   "metadata": {},
   "source": [
    "## University of Colorado Boulder\n",
    "<div class=\"alert alert-block alert-danger\">\n",
    "            **Due Date Applied Mathematics:** December 15(PhD), April 1(MS) <br> **Due Date Mathematics:** January 10 \n",
    "</div> \n",
    "__[More Info](https://www.colorado.edu/graduateschool/admissions/deadlines)__\n",
    "\n",
    "### Application Requirements __[WEB Link](https://www.colorado.edu/graduateschool/admissions/how-to-apply)__\n",
    "- ***Application fee:*** $60\n",
    "- ***Personal Statement:*** Prepare your \"personal Statement\" as .doc or .pdf file and upload with your application.\n",
    "- ***Letters of Recommendation:*** \n",
    "- ***Transcripts:*** upload an unofficial copy of your transcript(s) in the application. ONLY after you are recommended for admission will you need to provide official transcripts.\n",
    "- ***GPA Requirement:*** 3.00+\n",
    "- ***GRE:*** GRE sent electronically through ETS. \n",
    "\n",
    "    <div class=\"alert alert-block alert-info\">\n",
    "    **Note:** GRE Math subject is required for Mathematics only\n",
    "    </div> __[more info 1](https://www.colorado.edu/amath/academics/professional-masters-program/admissions-requirements)__ __[more info 2](mathematic uc boulder admission requirement)__\n",
    "\n",
    "### Programs:\n",
    "***Applied Mathematics*** __[WEB Link](https://www.colorado.edu/graduateschool/applied-math)__\n",
    "> ***Degree Type:*** MS, PhD\n",
    "\n",
    "> ***Description:*** One of the leading deparments of applied mathematics in the world. With international recognized faculty and a strong comitment to its graduate program, the Department of Applied Mathematics at UC Boulder strives to provide grad students a high quality education and training in applied mathematics while preparing them for careers in industry, laboratories, and the academic profession.\n",
    "\n",
    "***Mathematics*** __[WEB Link](https://www.colorado.edu/graduateschool/mathematics)__\n",
    "> ***Degree Type:*** MA, MS, PhD\n",
    "\n",
    "> ***Description:*** Research interests include algebra, algebraic geometry, combinatorics, differential equations, differential geometry, logic and foundations, modern analysis, noncommutative geometry, number theory, operator algebras, probability and topology."
   ]
  },
  {
   "cell_type": "markdown",
   "metadata": {},
   "source": [
    "---"
   ]
  },
  {
   "cell_type": "markdown",
   "metadata": {},
   "source": [
    "## University of California Davis\n",
    "<div class=\"alert alert-block alert-danger\">\n",
    "**Due Date Applied Mathematics:** January 15(June 1 if space available) <br> **Due Date Mathematics:** January 5(June 1 if space available)\n",
    "</div>\n",
    "__[more info](https://grad.ucdavis.edu/admissions/programs-deadlines)__\n",
    "\n",
    "### Application Requirements: __[WEB Link](https://grad.ucdavis.edu/admissions/admission-requirements/steps-applying)__\n",
    "\n",
    "- ***Application Fee:*** \\$105\n",
    "- ***Transcripts:*** You will be instructed to upload scanned copies of your transcripts after you have submitted your online application. __[more info](https://grad.ucdavis.edu/admissions/admission-requirements/submitting-your-transcripts)__ (This is a direct link. You can also find this in associated WEB Link.)\n",
    "- ***Statement of Purpose:*** Please highligh your academic preparation and motivation; interest, specialization and carrer goals; and fit for pursuing graduate study at UC Davis.\n",
    "- ***Personal History and Diversity Statement:*** (More information can be found in the link above)\n",
    "- ***GPA:*** 3.0+\n",
    "- ***GRE:*** GRE scores sent to UC Davis electronically\n",
    "    <div class=\"alert alert-block alert-info\">\n",
    "    **Note:** GRE General and GRE Subject Math in required for Mathematics. GRE General and GRE Subject(not restricted to the Mathematics exam) is required for Applied Mathematics.\n",
    "    </div> __[more info](https://www.math.ucdavis.edu/grad/apply/)__\n",
    "\n",
    "### Programs: \n",
    "***Applied Mathematics*** __[WEB Link](https://grad.ucdavis.edu/programs/gapm)__\n",
    "> ***Degree Type:*** M.S., Ph.D.\n",
    "\n",
    "> ***Description:*** Students gain advanced knowledge of various areas. Students graduate with the qualitative and quantitative skills necessary for professional research and teching in applied mathematics.\n",
    "\n",
    "\n",
    "***Mathematics*** __[WEB Link](https://grad.ucdavis.edu/programs/gmat)__\n",
    "> ***Degree Type:*** M.A., Ph.D.\n",
    "\n",
    "> *** Description:*** Students graduate with the qualitative and quantitative skills necessary for professional research and teaching in theoretical and applied mathematics."
   ]
  },
  {
   "cell_type": "markdown",
   "metadata": {},
   "source": [
    "## University of Maryland Baltimore County\n",
    "<div class=\"alert aler-block alert-danger\">\n",
    "**Due Date Applied Mathematics:** February 15\n",
    "</div>\n",
    "\n",
    "### Application Rrequirements: __[WEB Link 1](https://gradschool.umbc.edu/admissions/requirements/)__ __[WEB Link 2](https://gradschool.umbc.edu/admissions/requirements/documents/)__\n",
    "\n",
    "- ***Application Fee:*** \\$50(Online), \\$70(Paper\n",
    "- ***Goal Statement:*** 300-500 word statement discussing your academic objectives pertaining to your desired program plan to study, including contemplated research projects and professional career goals.\n",
    "- ***Letters of Recommendation:*** see [WEB Link 2] for more information.\n",
    "- ***Education History:*** You will be asked for information regarding all previously attended universities or higher education institutions.\n",
    "- ***Transcripts:*** Unofficial transcript can be used for early admission considerations. Official and final transcripts are reqired to complete your application. For more information, go to [WEB Link 2] \n",
    "- ***GPA:*** 3.0+\n",
    "- ***GRE:*** 85 percentile in quantitative section required.\n",
    "    <div class=\"alert alert-block alert-info\">\n",
    "    **Note:** Subject test for math is not required.\n",
    "    </div>\n",
    "\n",
    "### Program:\n",
    "***Applied Mathematics*** __[WEB Link](https://gradschool.umbc.edu/admissions/programs/math/)__\n",
    "> ***Degree Type:*** M.S., Ph.D.\n",
    "\n",
    "> ***Description:*** This program is designed for sutdents interested in pursuing an advanced degree and who have earned the equivalent of bachlor's or master's degree in mathematics, statistic, or in other mathematically oriented disciplines. The doctoral programs provide training suitable for employment in academia, industrial research and development organizations, as well as research-oriented goverernment agencies."
   ]
  },
  {
   "cell_type": "markdown",
   "metadata": {},
   "source": [
    "## University of Maryland College Park\n",
    "\n",
    "### Application Requirements:\n",
    "* ***\n",
    "\n",
    "### Programs:\n",
    "***Applied Mathematics & Statistics, and Scientifitc Computation***\n",
    "> ***Degree Type:*** M.S., Ph.D\n",
    "\n",
    "> ***Description:*** \n",
    "\n",
    "***Mathematics*** \n",
    "\n",
    "***Mathematics of Advanced Industrial Technology***"
   ]
  }
 ],
 "metadata": {
  "kernelspec": {
   "display_name": "Python 3",
   "language": "python",
   "name": "python3"
  },
  "language_info": {
   "codemirror_mode": {
    "name": "ipython",
    "version": 3
   },
   "file_extension": ".py",
   "mimetype": "text/x-python",
   "name": "python",
   "nbconvert_exporter": "python",
   "pygments_lexer": "ipython3",
   "version": "3.6.5"
  }
 },
 "nbformat": 4,
 "nbformat_minor": 2
}
